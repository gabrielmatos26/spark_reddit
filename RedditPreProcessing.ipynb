{
 "cells": [
  {
   "cell_type": "code",
   "execution_count": 1,
   "metadata": {},
   "outputs": [
    {
     "data": {
      "text/plain": [
       "spark = org.apache.spark.sql.SparkSession@533bad7b\n"
      ]
     },
     "metadata": {},
     "output_type": "display_data"
    },
    {
     "data": {
      "text/html": [
       "<ul>\n",
       "<li><a href=\"Some(http://192.168.1.7:4040)\" target=\"new_tab\">Spark UI: local-1533604262246</a></li>\n",
       "</ul>"
      ],
      "text/plain": [
       "Spark local-1533604262246: Some(http://192.168.1.7:4040)"
      ]
     },
     "execution_count": 1,
     "metadata": {},
     "output_type": "execute_result"
    }
   ],
   "source": [
    "import org.apache.spark.sql.types._\n",
    "import org.apache.spark.sql.SparkSession\n",
    "import org.apache.spark.sql.functions._\n",
    "import org.apache.spark.sql.Encoders\n",
    "import scala.concurrent.duration._\n",
    "import org.apache.spark.sql.streaming.{OutputMode, Trigger}\n",
    "val spark = SparkSession\n",
    "        .builder\n",
    "        .appName(\"RedditAnalysis\")\n",
    "        .getOrCreate()\n",
    "import spark.implicits._"
   ]
  },
  {
   "cell_type": "code",
   "execution_count": 2,
   "metadata": {},
   "outputs": [
    {
     "data": {
      "text/plain": [
       "defined class Reddit\n"
      ]
     },
     "metadata": {},
     "output_type": "display_data"
    }
   ],
   "source": [
    "case class Reddit(author: String, body: String, author_flair_text: String, gilded: BigInt, score: BigInt,\n",
    "                  link_id: String, retrieved_on: Long, author_flair_css_class: String, subreddit: String,\n",
    "                  edited: String, ups: BigInt, controversiality: BigInt, created_utc: java.sql.Timestamp,\n",
    "                  parent_id: String, subreddit_id: String, id: String, distinguished: String)"
   ]
  },
  {
   "cell_type": "code",
   "execution_count": 3,
   "metadata": {},
   "outputs": [
    {
     "data": {
      "text/plain": [
       "redditDF = [author: string, author_flair_css_class: string ... 16 more fields]\n",
       "redditDS = [author: string, author_flair_css_class: string ... 16 more fields]\n",
       "postsFiltered = [author: string, author_flair_css_class: string ... 16 more fields]\n"
      ]
     },
     "metadata": {},
     "output_type": "display_data"
    },
    {
     "data": {
      "text/plain": [
       "[author: string, author_flair_css_class: string ... 16 more fields]"
      ]
     },
     "execution_count": 3,
     "metadata": {},
     "output_type": "execute_result"
    }
   ],
   "source": [
    "val redditDF = spark.read.json(\"RC_2005-12.json\")\n",
    "val redditDS = redditDF.as[Reddit]\n",
    "val postsFiltered = redditDS.filter(a => a.author != \"[deleted]\" && a.author != \"AutoModerator\").sort($\"created_utc\".asc)"
   ]
  },
  {
   "cell_type": "code",
   "execution_count": 6,
   "metadata": {},
   "outputs": [
    {
     "data": {
      "text/plain": [
       "folderName = reddit_posts_2005\n",
       "numberOfFiles = 200\n"
      ]
     },
     "metadata": {},
     "output_type": "display_data"
    },
    {
     "data": {
      "text/plain": [
       "200"
      ]
     },
     "execution_count": 6,
     "metadata": {},
     "output_type": "execute_result"
    }
   ],
   "source": [
    "val folderName = \"reddit_posts_2005\"\n",
    "val numberOfFiles = \"200\""
   ]
  },
  {
   "cell_type": "code",
   "execution_count": 7,
   "metadata": {},
   "outputs": [],
   "source": [
    "spark.conf.set(\"spark.sql.shuffle.partitions\", numberOfFiles)\n",
    "postsFiltered.write.json(folderName)"
   ]
  }
 ],
 "metadata": {
  "kernelspec": {
   "display_name": "Spark - Scala",
   "language": "scala",
   "name": "spark_scala"
  },
  "language_info": {
   "codemirror_mode": "text/x-scala",
   "file_extension": ".scala",
   "mimetype": "text/x-scala",
   "name": "scala",
   "pygments_lexer": "scala",
   "version": "2.11.8"
  }
 },
 "nbformat": 4,
 "nbformat_minor": 2
}
