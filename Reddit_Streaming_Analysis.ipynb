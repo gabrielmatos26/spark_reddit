{
 "cells": [
  {
   "cell_type": "code",
   "execution_count": 1,
   "metadata": {},
   "outputs": [
    {
     "data": {
      "text/plain": [
       "spark = org.apache.spark.sql.SparkSession@705171eb\n"
      ]
     },
     "metadata": {},
     "output_type": "display_data"
    },
    {
     "data": {
      "text/html": [
       "<ul>\n",
       "<li><a href=\"Some(http://192.168.1.7:4040)\" target=\"new_tab\">Spark UI: local-1533612266543</a></li>\n",
       "</ul>"
      ],
      "text/plain": [
       "Spark local-1533612266543: Some(http://192.168.1.7:4040)"
      ]
     },
     "execution_count": 1,
     "metadata": {},
     "output_type": "execute_result"
    }
   ],
   "source": [
    "import org.apache.spark.sql.types._\n",
    "import org.apache.spark.sql.SparkSession\n",
    "import org.apache.spark.sql.functions._\n",
    "import org.apache.spark.sql.Encoders\n",
    "import scala.concurrent.duration._\n",
    "import org.apache.spark.sql.streaming.{OutputMode, Trigger}\n",
    "val spark = SparkSession\n",
    "        .builder\n",
    "        .appName(\"RedditAnalysis\")\n",
    "        .getOrCreate()\n",
    "import spark.implicits._"
   ]
  },
  {
   "cell_type": "code",
   "execution_count": 2,
   "metadata": {},
   "outputs": [
    {
     "data": {
      "text/plain": [
       "fixEncoding: (text: String)String\n"
      ]
     },
     "metadata": {},
     "output_type": "display_data"
    }
   ],
   "source": [
    "def fixEncoding(text:String): String = {\n",
    "    val regex = \"[\\\\xc2-\\\\xf4][\\\\x80-\\\\xbf]+\".r\n",
    "    return regex.replaceAllIn(text, m => new String(m.group(0).getBytes(\"ISO-8859-1\"),\"UTF-8\"))\n",
    "}"
   ]
  },
  {
   "cell_type": "code",
   "execution_count": 3,
   "metadata": {},
   "outputs": [
    {
     "data": {
      "text/plain": [
       "defined class Reddit\n"
      ]
     },
     "metadata": {},
     "output_type": "display_data"
    }
   ],
   "source": [
    "case class Reddit(author: String, body: String, author_flair_text: String, gilded: BigInt, score: BigInt,\n",
    "                  link_id: String, retrieved_on: Long, author_flair_css_class: String, subreddit: String,\n",
    "                  edited: String, ups: BigInt, controversiality: BigInt, created_utc: java.sql.Timestamp,\n",
    "                  parent_id: String, subreddit_id: String, id: String, distinguished: String)"
   ]
  },
  {
   "cell_type": "code",
   "execution_count": 4,
   "metadata": {},
   "outputs": [
    {
     "data": {
      "text/plain": [
       "schema = StructType(StructField(author,StringType,true), StructField(body,StringType,true), StructField(author_flair_text,StringType,true), StructField(gilded,DecimalType(38,0),true), StructField(score,DecimalType(38,0),true), StructField(link_id,StringType,true), StructField(retrieved_on,LongType,false), StructField(author_flair_css_class,StringType,true), StructField(subreddit,StringType,true), StructField(edited,StringType,true), StructField(ups,DecimalType(38,0),true), StructField(controversiality,DecimalType(38,0),true), StructField(created_utc,TimestampType,true), StructField(parent_id,StringType,true), StructField(subreddit_id,StringType,true), StructField(id,StringType,true), StructField(distinguished,StringType,true))\n"
      ]
     },
     "metadata": {},
     "output_type": "display_data"
    },
    {
     "data": {
      "text/plain": [
       "StructType(StructField(author,StringType,true), StructField(body,StringType,true), StructField(author_flair_text,StringType,true), StructField(gilded,DecimalType(38,0),true), StructField(score,DecimalType(38,0),true), StructField(link_id,StringType,true), StructField(retrieved_on,LongType,false), StructField(author_flair_css_class,StringType,true), StructField(subreddit,StringType,true), StructField(edited,StringType,true), StructField(ups,DecimalType(38,0),true), StructField(controversiality,DecimalType(38,0),true), StructField(created_utc,TimestampType,true), StructField(parent_id,StringType,true), StructField(subreddit_id,StringType,true), StructField(id,StringType,true), StructField(distinguished,StringType,true))"
      ]
     },
     "execution_count": 4,
     "metadata": {},
     "output_type": "execute_result"
    }
   ],
   "source": [
    "val schema = Encoders.product[Reddit].schema"
   ]
  },
  {
   "cell_type": "code",
   "execution_count": 5,
   "metadata": {},
   "outputs": [],
   "source": [
    "spark.conf.set(\"spark.sql.shuffle.partitions\", \"1\")"
   ]
  },
  {
   "cell_type": "code",
   "execution_count": 22,
   "metadata": {},
   "outputs": [
    {
     "data": {
      "text/plain": [
       "reddit = [author: string, body: string ... 15 more fields]\n"
      ]
     },
     "metadata": {},
     "output_type": "display_data"
    },
    {
     "data": {
      "text/plain": [
       "[author: string, body: string ... 15 more fields]"
      ]
     },
     "execution_count": 22,
     "metadata": {},
     "output_type": "execute_result"
    }
   ],
   "source": [
    "val reddit = spark.readStream.schema(schema).option(\"maxFilesPerTrigger\", 1).json(\"reddit_posts_2005/*.json\").as[Reddit]"
   ]
  },
  {
   "cell_type": "code",
   "execution_count": 18,
   "metadata": {},
   "outputs": [
    {
     "data": {
      "text/plain": [
       "user = [author: string, subreddit: string ... 1 more field]\n"
      ]
     },
     "metadata": {},
     "output_type": "display_data"
    },
    {
     "data": {
      "text/plain": [
       "lastException: Throwable = null\n"
      ]
     },
     "metadata": {},
     "output_type": "display_data"
    },
    {
     "data": {
      "text/plain": [
       "[author: string, subreddit: string ... 1 more field]"
      ]
     },
     "execution_count": 18,
     "metadata": {},
     "output_type": "execute_result"
    }
   ],
   "source": [
    "val user = reddit.groupBy($\"author\", $\"subreddit\").agg(count($\"author\"))"
   ]
  },
  {
   "cell_type": "code",
   "execution_count": 53,
   "metadata": {},
   "outputs": [
    {
     "data": {
      "text/plain": [
       "Name: Unknown Error\n",
       "Message: <console>:48: error: not found: value sort\n",
       "       val user = reddit.groupBy(window($\"created_utc\", \"30 minutes\"), $\"author\").agg(count($\"author\"), sort($\"created_utc\"))\n",
       "                                                                                                        ^\n",
       "\n",
       "StackTrace: "
      ]
     },
     "execution_count": 53,
     "metadata": {},
     "output_type": "execute_result"
    }
   ],
   "source": [
    "val user = reddit.groupBy(window($\"created_utc\", \"30 minutes\"), $\"author\").count()"
   ]
  },
  {
   "cell_type": "code",
   "execution_count": 51,
   "metadata": {},
   "outputs": [
    {
     "data": {
      "text/plain": [
       "redditStream = org.apache.spark.sql.execution.streaming.StreamingQueryWrapper@11507c15\n"
      ]
     },
     "metadata": {},
     "output_type": "display_data"
    },
    {
     "data": {
      "text/plain": [
       "org.apache.spark.sql.execution.streaming.StreamingQueryWrapper@11507c15"
      ]
     },
     "execution_count": 51,
     "metadata": {},
     "output_type": "execute_result"
    },
    {
     "name": "stdout",
     "output_type": "stream",
     "text": [
      "-------------------------------------------\n",
      "Batch: 0\n",
      "-------------------------------------------\n",
      "+------------------------------------------+---------+-----+\n",
      "|window                                    |author   |count|\n",
      "+------------------------------------------+---------+-----+\n",
      "|[2005-12-12 09:00:00, 2005-12-12 09:30:00]|AaronSw  |3    |\n",
      "|[2005-12-12 09:00:00, 2005-12-12 09:30:00]|fnord123 |1    |\n",
      "|[2005-12-12 09:00:00, 2005-12-12 09:30:00]|ssundar78|1    |\n",
      "+------------------------------------------+---------+-----+\n",
      "\n",
      "-------------------------------------------\n",
      "Batch: 1\n",
      "-------------------------------------------\n",
      "+------------------------------------------+---------+-----+\n",
      "|window                                    |author   |count|\n",
      "+------------------------------------------+---------+-----+\n",
      "|[2005-12-12 09:00:00, 2005-12-12 09:30:00]|AaronSw  |3    |\n",
      "|[2005-12-12 09:30:00, 2005-12-12 10:00:00]|AaronSw  |1    |\n",
      "|[2005-12-12 09:00:00, 2005-12-12 09:30:00]|fnord123 |1    |\n",
      "|[2005-12-12 09:30:00, 2005-12-12 10:00:00]|zlayde   |1    |\n",
      "|[2005-12-12 09:00:00, 2005-12-12 09:30:00]|ssundar78|2    |\n",
      "|[2005-12-12 09:30:00, 2005-12-12 10:00:00]|jarsonic |1    |\n",
      "+------------------------------------------+---------+-----+\n",
      "\n",
      "-------------------------------------------\n",
      "Batch: 2\n",
      "-------------------------------------------\n",
      "+------------------------------------------+---------+-----+\n",
      "|window                                    |author   |count|\n",
      "+------------------------------------------+---------+-----+\n",
      "|[2005-12-12 09:00:00, 2005-12-12 09:30:00]|AaronSw  |3    |\n",
      "|[2005-12-12 09:30:00, 2005-12-12 10:00:00]|AaronSw  |1    |\n",
      "|[2005-12-12 04:00:00, 2005-12-12 04:30:00]|rjoseph  |1    |\n",
      "|[2005-12-12 03:00:00, 2005-12-12 03:30:00]|frjo     |1    |\n",
      "|[2005-12-12 03:30:00, 2005-12-12 04:00:00]|zse7zse  |1    |\n",
      "|[2005-12-12 09:30:00, 2005-12-12 10:00:00]|jarsonic |1    |\n",
      "|[2005-12-12 05:00:00, 2005-12-12 05:30:00]|b0se     |1    |\n",
      "|[2005-12-12 05:00:00, 2005-12-12 05:30:00]|cavedave |1    |\n",
      "|[2005-12-12 09:00:00, 2005-12-12 09:30:00]|fnord123 |1    |\n",
      "|[2005-12-12 09:30:00, 2005-12-12 10:00:00]|zlayde   |1    |\n",
      "|[2005-12-12 09:00:00, 2005-12-12 09:30:00]|ssundar78|2    |\n",
      "+------------------------------------------+---------+-----+\n",
      "\n",
      "-------------------------------------------\n",
      "Batch: 3\n",
      "-------------------------------------------\n",
      "+------------------------------------------+---------+-----+\n",
      "|window                                    |author   |count|\n",
      "+------------------------------------------+---------+-----+\n",
      "|[2005-12-12 09:30:00, 2005-12-12 10:00:00]|AaronSw  |1    |\n",
      "|[2005-12-12 13:00:00, 2005-12-12 13:30:00]|radikal  |1    |\n",
      "|[2005-12-12 12:30:00, 2005-12-12 13:00:00]|JimThome |1    |\n",
      "|[2005-12-12 13:00:00, 2005-12-12 13:30:00]|kn0thing |1    |\n",
      "|[2005-12-12 04:00:00, 2005-12-12 04:30:00]|rjoseph  |1    |\n",
      "|[2005-12-12 03:00:00, 2005-12-12 03:30:00]|frjo     |1    |\n",
      "|[2005-12-12 03:30:00, 2005-12-12 04:00:00]|zse7zse  |1    |\n",
      "|[2005-12-12 12:30:00, 2005-12-12 13:00:00]|dylanm   |1    |\n",
      "|[2005-12-12 05:00:00, 2005-12-12 05:30:00]|b0se     |1    |\n",
      "|[2005-12-12 09:30:00, 2005-12-12 10:00:00]|zlayde   |1    |\n",
      "|[2005-12-12 09:00:00, 2005-12-12 09:30:00]|ssundar78|2    |\n",
      "|[2005-12-12 13:00:00, 2005-12-12 13:30:00]|spez     |1    |\n",
      "|[2005-12-12 09:00:00, 2005-12-12 09:30:00]|AaronSw  |3    |\n",
      "|[2005-12-12 09:30:00, 2005-12-12 10:00:00]|jarsonic |1    |\n",
      "|[2005-12-12 05:00:00, 2005-12-12 05:30:00]|cavedave |1    |\n",
      "|[2005-12-12 09:00:00, 2005-12-12 09:30:00]|fnord123 |1    |\n",
      "+------------------------------------------+---------+-----+\n",
      "\n",
      "-------------------------------------------\n",
      "Batch: 4\n",
      "-------------------------------------------\n",
      "+------------------------------------------+---------------+-----+\n",
      "|window                                    |author         |count|\n",
      "+------------------------------------------+---------------+-----+\n",
      "|[2005-12-12 09:30:00, 2005-12-12 10:00:00]|AaronSw        |1    |\n",
      "|[2005-12-12 13:00:00, 2005-12-12 13:30:00]|radikal        |1    |\n",
      "|[2005-12-12 12:30:00, 2005-12-12 13:00:00]|JimThome       |1    |\n",
      "|[2005-12-12 13:00:00, 2005-12-12 13:30:00]|kn0thing       |1    |\n",
      "|[2005-12-12 04:00:00, 2005-12-12 04:30:00]|rjoseph        |1    |\n",
      "|[2005-12-12 03:00:00, 2005-12-12 03:30:00]|frjo           |1    |\n",
      "|[2005-12-12 03:30:00, 2005-12-12 04:00:00]|zse7zse        |1    |\n",
      "|[2005-12-12 12:30:00, 2005-12-12 13:00:00]|dylanm         |1    |\n",
      "|[2005-12-12 05:00:00, 2005-12-12 05:30:00]|b0se           |1    |\n",
      "|[2005-12-12 09:30:00, 2005-12-12 10:00:00]|zlayde         |1    |\n",
      "|[2005-12-12 09:00:00, 2005-12-12 09:30:00]|ssundar78      |2    |\n",
      "|[2005-12-12 13:00:00, 2005-12-12 13:30:00]|spez           |1    |\n",
      "|[2005-12-12 09:00:00, 2005-12-12 09:30:00]|AaronSw        |3    |\n",
      "|[2005-12-18 20:30:00, 2005-12-18 21:00:00]|James          |1    |\n",
      "|[2005-12-22 09:30:00, 2005-12-22 10:00:00]|mikepurvis     |1    |\n",
      "|[2005-12-12 09:30:00, 2005-12-12 10:00:00]|jarsonic       |1    |\n",
      "|[2005-12-12 05:00:00, 2005-12-12 05:30:00]|cavedave       |1    |\n",
      "|[2005-12-22 10:00:00, 2005-12-22 10:30:00]|enjahova       |1    |\n",
      "|[2005-12-12 09:00:00, 2005-12-12 09:30:00]|fnord123       |1    |\n",
      "|[2005-12-22 10:00:00, 2005-12-22 10:30:00]|schmengebrother|1    |\n",
      "+------------------------------------------+---------------+-----+\n",
      "\n"
     ]
    }
   ],
   "source": [
    "val redditStream = user.writeStream.format(\"console\").\n",
    "                   option(\"truncate\", false).\n",
    "                   trigger(Trigger.ProcessingTime(5.seconds)).\n",
    "                   outputMode(OutputMode.Complete).\n",
    "                   queryName(\"reddit_posts\").start"
   ]
  },
  {
   "cell_type": "code",
   "execution_count": 54,
   "metadata": {},
   "outputs": [
    {
     "data": {
      "text/plain": [
       "false"
      ]
     },
     "execution_count": 54,
     "metadata": {},
     "output_type": "execute_result"
    }
   ],
   "source": [
    "redditStream.isActive"
   ]
  },
  {
   "cell_type": "code",
   "execution_count": 27,
   "metadata": {},
   "outputs": [
    {
     "data": {
      "text/plain": [
       "+---------+------------+-----+\n",
       "|   author| created_utc|count|\n",
       "+---------+------------+-----+\n",
       "|     frjo|Dec-12 04:00|    1|\n",
       "|  zse7zse|Dec-12 04:00|    1|\n",
       "|     b0se|Dec-12 06:00|    1|\n",
       "| cavedave|Dec-12 06:00|    1|\n",
       "|  rjoseph|Dec-12 06:00|    1|\n",
       "|  AaronSw|Dec-12 10:00|    4|\n",
       "| fnord123|Dec-12 10:00|    1|\n",
       "| jarsonic|Dec-12 10:00|    1|\n",
       "|ssundar78|Dec-12 10:00|    2|\n",
       "|   zlayde|Dec-12 10:00|    1|\n",
       "+---------+------------+-----+\n",
       "only showing top 10 rows\n",
       "\n"
      ]
     },
     "execution_count": 27,
     "metadata": {},
     "output_type": "execute_result"
    }
   ],
   "source": [
    "%%SQL\n",
    "select author, date_format(window.end, \"MMM-dd HH:mm\") as created_utc, count from reddit_posts order by created_utc, author"
   ]
  },
  {
   "cell_type": "code",
   "execution_count": 35,
   "metadata": {},
   "outputs": [
    {
     "data": {
      "text/plain": [
       "+----------+--------------------+-----+\n",
       "|    author|         created_utc|count|\n",
       "+----------+--------------------+-----+\n",
       "|      frjo|Dec-12-2005 04:00:00|    1|\n",
       "|   zse7zse|Dec-12-2005 04:00:00|    1|\n",
       "|      b0se|Dec-12-2005 06:00:00|    1|\n",
       "|  cavedave|Dec-12-2005 06:00:00|    1|\n",
       "|   rjoseph|Dec-12-2005 06:00:00|    1|\n",
       "|     damir|Dec-12-2005 08:00:00|    1|\n",
       "|  kn0thing|Dec-12-2005 08:00:00|    1|\n",
       "|richardk74|Dec-12-2005 08:00:00|    1|\n",
       "|   AaronSw|Dec-12-2005 10:00:00|    4|\n",
       "|   bugbear|Dec-12-2005 10:00:00|    1|\n",
       "+----------+--------------------+-----+\n",
       "only showing top 10 rows\n",
       "\n"
      ]
     },
     "execution_count": 35,
     "metadata": {},
     "output_type": "execute_result"
    }
   ],
   "source": [
    "%%SQL\n",
    "select author, date_format(window.end, \"MMM-dd-YYYY HH:mm:ss\") as created_utc, count from reddit_posts order by created_utc, author"
   ]
  },
  {
   "cell_type": "code",
   "execution_count": 52,
   "metadata": {},
   "outputs": [],
   "source": [
    "redditStream.stop"
   ]
  }
 ],
 "metadata": {
  "kernelspec": {
   "display_name": "Spark - Scala",
   "language": "scala",
   "name": "spark_scala"
  },
  "language_info": {
   "codemirror_mode": "text/x-scala",
   "file_extension": ".scala",
   "mimetype": "text/x-scala",
   "name": "scala",
   "pygments_lexer": "scala",
   "version": "2.11.8"
  }
 },
 "nbformat": 4,
 "nbformat_minor": 2
}
