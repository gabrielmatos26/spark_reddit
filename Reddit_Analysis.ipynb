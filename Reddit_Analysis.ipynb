{
 "cells": [
  {
   "cell_type": "code",
   "execution_count": 35,
   "metadata": {},
   "outputs": [
    {
     "data": {
      "text/plain": [
       "sparkSession = org.apache.spark.sql.SparkSession@14ec6ada\n"
      ]
     },
     "metadata": {},
     "output_type": "display_data"
    },
    {
     "data": {
      "text/html": [
       "<ul>\n",
       "<li><a href=\"Some(http://192.168.1.7:4040)\" target=\"new_tab\">Spark UI: local-1533526251577</a></li>\n",
       "</ul>"
      ],
      "text/plain": [
       "Spark local-1533526251577: Some(http://192.168.1.7:4040)"
      ]
     },
     "execution_count": 35,
     "metadata": {},
     "output_type": "execute_result"
    }
   ],
   "source": [
    "import org.apache.spark.sql.types._\n",
    "import org.apache.spark.sql.SparkSession\n",
    "import org.apache.spark.sql.functions._\n",
    "val sparkSession = spark\n",
    "import sparkSession.implicits._"
   ]
  },
  {
   "cell_type": "code",
   "execution_count": 2,
   "metadata": {},
   "outputs": [
    {
     "data": {
      "text/plain": [
       "fixEncoding: (text: String)String\n"
      ]
     },
     "metadata": {},
     "output_type": "display_data"
    }
   ],
   "source": [
    "def fixEncoding(text:String): String = {\n",
    "    val regex = \"[\\\\xc2-\\\\xf4][\\\\x80-\\\\xbf]+\".r\n",
    "    return regex.replaceAllIn(text, m => new String(m.group(0).getBytes(\"ISO-8859-1\"),\"UTF-8\"))\n",
    "}"
   ]
  },
  {
   "cell_type": "code",
   "execution_count": 15,
   "metadata": {},
   "outputs": [
    {
     "data": {
      "text/plain": [
       "defined class Reddit\n"
      ]
     },
     "metadata": {},
     "output_type": "display_data"
    },
    {
     "data": {
      "text/plain": [
       "lastException: Throwable = null\n"
      ]
     },
     "metadata": {},
     "output_type": "display_data"
    }
   ],
   "source": [
    "// case class Reddit(author: String, author_flair_css_class: String, author_flair_text: String, body: String, controversiality: String, created_utc: String, distinguished: String, edited: String, gilded: String, id: String, link_id: String, parent_id: String, retrieved_on: String, score: String, stickied: String, subreddit: String, subreddit_id: String, ups: String)\n",
    "case class Reddit(author: String, body: String, author_flair_text: String, gilded: BigInt, score: BigInt,\n",
    "                  link_id: String, retrieved_on: Long, author_flair_css_class: String, subreddit: String,\n",
    "                  edited: String, ups: BigInt, controversiality: BigInt, created_utc: Long,\n",
    "                  parent_id: String, subreddit_id: String, id: String, distinguished: String)"
   ]
  },
  {
   "cell_type": "code",
   "execution_count": 16,
   "metadata": {},
   "outputs": [
    {
     "data": {
      "text/plain": [
       "redditDF = [author: string, author_flair_css_class: string ... 16 more fields]\n"
      ]
     },
     "metadata": {},
     "output_type": "display_data"
    },
    {
     "data": {
      "text/plain": [
       "[author: string, author_flair_css_class: string ... 16 more fields]"
      ]
     },
     "execution_count": 16,
     "metadata": {},
     "output_type": "execute_result"
    }
   ],
   "source": [
    "val redditDF = spark.read.json(\"RC_2005-12.json\")"
   ]
  },
  {
   "cell_type": "code",
   "execution_count": 17,
   "metadata": {},
   "outputs": [
    {
     "name": "stdout",
     "output_type": "stream",
     "text": [
      "+--------------+----------+-----+\n",
      "|        author| subreddit|count|\n",
      "+--------------+----------+-----+\n",
      "|      symbiont|reddit.com|   21|\n",
      "|  michaelneale|reddit.com|   21|\n",
      "|      mattknox|reddit.com|   19|\n",
      "|           chu|reddit.com|   16|\n",
      "|    paulgraham|reddit.com|   15|\n",
      "|           e40|reddit.com|   13|\n",
      "|      fnord123|reddit.com|   12|\n",
      "|         jcage|reddit.com|   10|\n",
      "|        TronXD|reddit.com|    9|\n",
      "|       beza1e1|reddit.com|    9|\n",
      "|        stesch|reddit.com|    9|\n",
      "|        rdtiii|reddit.com|    9|\n",
      "|      enjahova|reddit.com|    9|\n",
      "|       bugbear|reddit.com|    9|\n",
      "|      JimThome|reddit.com|    8|\n",
      "|JonathanGCohen|reddit.com|    8|\n",
      "|     lynxcat73|reddit.com|    8|\n",
      "|          spez|reddit.com|    7|\n",
      "|     Schwallex|reddit.com|    7|\n",
      "|     drewyates|reddit.com|    7|\n",
      "+--------------+----------+-----+\n",
      "only showing top 20 rows\n",
      "\n"
     ]
    },
    {
     "data": {
      "text/plain": [
       "redditDS = [author: string, author_flair_css_class: string ... 16 more fields]\n",
       "postsFiltered = [author: string, author_flair_css_class: string ... 16 more fields]\n"
      ]
     },
     "metadata": {},
     "output_type": "display_data"
    },
    {
     "data": {
      "text/plain": [
       "authorsSubreddits: Unit = ()\n"
      ]
     },
     "metadata": {},
     "output_type": "display_data"
    },
    {
     "data": {
      "text/plain": [
       "[author: string, author_flair_css_class: string ... 16 more fields]"
      ]
     },
     "execution_count": 17,
     "metadata": {},
     "output_type": "execute_result"
    }
   ],
   "source": [
    "val redditDS = redditDF.as[Reddit]\n",
    "val postsFiltered = redditDS.filter(a => a.author != \"[deleted]\" && a.author != \"AutoModerator\")\n",
    "val authorsSubreddits = postsFiltered.select($\"author\", $\"body\", $\"subreddit\").groupBy(\"author\",\"subreddit\").count().sort($\"count\".desc).show()"
   ]
  },
  {
   "cell_type": "code",
   "execution_count": 38,
   "metadata": {},
   "outputs": [
    {
     "name": "stdout",
     "output_type": "stream",
     "text": [
      "+----------+-----------+\n",
      "| subreddit|total posts|\n",
      "+----------+-----------+\n",
      "|reddit.com|        890|\n",
      "+----------+-----------+\n",
      "\n"
     ]
    },
    {
     "data": {
      "text/plain": [
       "lastException: Throwable = null\n",
       "subredditsCounter: Unit = ()\n"
      ]
     },
     "metadata": {},
     "output_type": "display_data"
    }
   ],
   "source": [
    "val subredditsCounter = postsFiltered.select($\"author\", $\"subreddit\").\n",
    "                        groupBy(\"subreddit\").agg(count(\"subreddit\") as \"total posts\").sort($\"total posts\".desc).show()"
   ]
  },
  {
   "cell_type": "code",
   "execution_count": 47,
   "metadata": {},
   "outputs": [
    {
     "name": "stdout",
     "output_type": "stream",
     "text": [
      "+-------------+---------+\n",
      "|       author|total ups|\n",
      "+-------------+---------+\n",
      "|   paulgraham|       98|\n",
      "|     mattknox|       77|\n",
      "|      bugbear|       43|\n",
      "| michaelneale|       39|\n",
      "|     dstowell|       38|\n",
      "|         spez|       36|\n",
      "|      AaronSw|       30|\n",
      "|        sempf|       29|\n",
      "|     JimThome|       29|\n",
      "|    bolinfest|       28|\n",
      "|       davidw|       27|\n",
      "|          Zak|       26|\n",
      "|     symbiont|       25|\n",
      "|     binladen|       24|\n",
      "|         cg84|       23|\n",
      "|     enjahova|       23|\n",
      "|brendankohler|       21|\n",
      "|       dylanm|       20|\n",
      "|     beastboy|       19|\n",
      "|    Schwallex|       18|\n",
      "+-------------+---------+\n",
      "only showing top 20 rows\n",
      "\n"
     ]
    },
    {
     "data": {
      "text/plain": [
       "upvotesCounter: Unit = ()\n"
      ]
     },
     "metadata": {},
     "output_type": "display_data"
    }
   ],
   "source": [
    "val upvotesCounter = postsFiltered.select($\"author\", $\"subreddit\", $\"ups\").\n",
    "                     groupBy(\"author\").agg(sum(\"ups\") as \"total ups\").sort($\"total ups\".desc).show()"
   ]
  },
  {
   "cell_type": "code",
   "execution_count": 46,
   "metadata": {},
   "outputs": [
    {
     "name": "stdout",
     "output_type": "stream",
     "text": [
      "+---------------+-----------+\n",
      "|         author|total downs|\n",
      "+---------------+-----------+\n",
      "|      ssundar78|        -21|\n",
      "|          zimba|        -18|\n",
      "|       dguertin|        -14|\n",
      "|         TronXD|        -14|\n",
      "|        Taladar|        -11|\n",
      "|         guytam|         -8|\n",
      "|        jedberg|         -8|\n",
      "|          alecb|         -7|\n",
      "|     hartshorne|         -6|\n",
      "|        flabbah|         -6|\n",
      "|       fnord123|         -6|\n",
      "|     goodgoblin|         -5|\n",
      "|       mckirkus|         -5|\n",
      "|      lynxcat73|         -5|\n",
      "| Godfrey_Daniel|         -4|\n",
      "|theycallmemorty|         -4|\n",
      "|            chu|         -4|\n",
      "| BJThunderstone|         -4|\n",
      "|          Donut|         -4|\n",
      "|      priestess|         -3|\n",
      "+---------------+-----------+\n",
      "only showing top 20 rows\n",
      "\n"
     ]
    },
    {
     "data": {
      "text/plain": [
       "downvotesCounter: Unit = ()\n"
      ]
     },
     "metadata": {},
     "output_type": "display_data"
    }
   ],
   "source": [
    "val downvotesCounter = postsFiltered.filter(a => a.ups < 0).select($\"author\", $\"subreddit\", $\"ups\").\n",
    "                       groupBy(\"author\").agg(sum(\"ups\") as \"total downs\").sort($\"total downs\".asc).show()"
   ]
  }
 ],
 "metadata": {
  "kernelspec": {
   "display_name": "Apache Toree - Scala",
   "language": "scala",
   "name": "apache_toree_scala"
  },
  "language_info": {
   "codemirror_mode": "text/x-scala",
   "file_extension": ".scala",
   "mimetype": "text/x-scala",
   "name": "scala",
   "pygments_lexer": "scala",
   "version": "2.11.8"
  }
 },
 "nbformat": 4,
 "nbformat_minor": 2
}
